{
  "cells": [
    {
      "cell_type": "markdown",
      "metadata": {
        "id": "view-in-github",
        "colab_type": "text"
      },
      "source": [
        "<a href=\"https://colab.research.google.com/github/kmin0528/wanted-pre-onboarding-challenge-data/blob/main/Numpy_Quiz_%EB%AC%B8%EC%A0%9C.ipynb\" target=\"_parent\"><img src=\"https://colab.research.google.com/assets/colab-badge.svg\" alt=\"Open In Colab\"/></a>"
      ]
    },
    {
      "cell_type": "code",
      "source": [
        "from google.colab import drive\n",
        "drive.mount('/content/drive')"
      ],
      "metadata": {
        "colab": {
          "base_uri": "https://localhost:8080/"
        },
        "id": "GuFDURvUQH3_",
        "outputId": "f60426ef-e054-40dd-c66b-2ce16b118f3c"
      },
      "id": "GuFDURvUQH3_",
      "execution_count": 3,
      "outputs": [
        {
          "output_type": "stream",
          "name": "stdout",
          "text": [
            "Mounted at /content/drive\n"
          ]
        }
      ]
    },
    {
      "cell_type": "code",
      "execution_count": 2,
      "id": "7d34f957",
      "metadata": {
        "id": "7d34f957"
      },
      "outputs": [],
      "source": [
        "# 필요한 라이브러리를 불러옵니다.\n",
        "import numpy as np"
      ]
    },
    {
      "cell_type": "markdown",
      "id": "e35027db",
      "metadata": {
        "id": "e35027db"
      },
      "source": [
        "### 1. 값이 10~49인 numpy array를 만드세요"
      ]
    },
    {
      "cell_type": "code",
      "execution_count": 19,
      "id": "186a443c",
      "metadata": {
        "colab": {
          "base_uri": "https://localhost:8080/"
        },
        "id": "186a443c",
        "outputId": "c0b5bab5-5c82-4785-9a29-35d3e4302fe4"
      },
      "outputs": [
        {
          "output_type": "stream",
          "name": "stdout",
          "text": [
            "[10 11 12 13 14 15 16 17 18 19 20 21 22 23 24 25 26 27 28 29 30 31 32 33\n",
            " 34 35 36 37 38 39 40 41 42 43 44 45 46 47 48 49]\n"
          ]
        }
      ],
      "source": [
        "z = np.array(list(i for i in range(10,50)))\n",
        "print(z)"
      ]
    },
    {
      "cell_type": "markdown",
      "id": "7fe92102",
      "metadata": {
        "id": "7fe92102"
      },
      "source": [
        "### 2. z를 반전하세요."
      ]
    },
    {
      "cell_type": "code",
      "execution_count": 42,
      "id": "f78638fa",
      "metadata": {
        "colab": {
          "base_uri": "https://localhost:8080/"
        },
        "id": "f78638fa",
        "outputId": "77fb5473-478e-4624-a9f1-5cc5c4c20ffe"
      },
      "outputs": [
        {
          "output_type": "stream",
          "name": "stdout",
          "text": [
            "[49 48 47 46 45 44 43 42 41 40 39 38 37 36 35 34 33 32 31 30 29 28 27 26\n",
            " 25 24 23 22 21 20 19 18 17 16 15 14 13 12 11 10]\n"
          ]
        }
      ],
      "source": [
        "z = np.array(list(reversed(z)))\n",
        "print(z)"
      ]
    },
    {
      "cell_type": "markdown",
      "id": "a04b347c",
      "metadata": {
        "id": "a04b347c"
      },
      "source": [
        "### 3. 반전시킨 z 매트릭스를 10 x 4 매트릭스로 바꾸세요."
      ]
    },
    {
      "cell_type": "code",
      "execution_count": 61,
      "id": "fcf79ba9",
      "metadata": {
        "colab": {
          "base_uri": "https://localhost:8080/"
        },
        "id": "fcf79ba9",
        "outputId": "e7bba10e-c4b9-44a5-afdd-34ed3c454adb"
      },
      "outputs": [
        {
          "output_type": "stream",
          "name": "stdout",
          "text": [
            "[[49 48 47 46]\n",
            " [45 44 43 42]\n",
            " [41 40 39 38]\n",
            " [37 36 35 34]\n",
            " [33 32 31 30]\n",
            " [29 28 27 26]\n",
            " [25 24 23 22]\n",
            " [21 20 19 18]\n",
            " [17 16 15 14]\n",
            " [13 12 11 10]]\n"
          ]
        }
      ],
      "source": [
        "arr = np.empty((0,4), int)\n",
        "\n",
        "for i in range(0, len(z), 4):\n",
        "  arr = np.append(arr, np.array([z[i:i+4]]), axis = 0)\n",
        "z = arr\n",
        "print(z)"
      ]
    },
    {
      "cell_type": "markdown",
      "id": "a8fb1466",
      "metadata": {
        "id": "a8fb1466"
      },
      "source": [
        "### 4. x에서 0이 아닌 요소의 색인을 찾아보세요."
      ]
    },
    {
      "cell_type": "code",
      "source": [
        "li = [5,6,8,0,1,0,7]\n",
        "\n",
        "print(li.index(0))"
      ],
      "metadata": {
        "colab": {
          "base_uri": "https://localhost:8080/"
        },
        "id": "8BRml75ZW_RP",
        "outputId": "29f7c549-4a81-4419-cea1-58002bdb64fe"
      },
      "id": "8BRml75ZW_RP",
      "execution_count": 63,
      "outputs": [
        {
          "output_type": "stream",
          "name": "stdout",
          "text": [
            "3\n"
          ]
        }
      ]
    },
    {
      "cell_type": "code",
      "execution_count": 69,
      "id": "0b0944c7",
      "metadata": {
        "colab": {
          "base_uri": "https://localhost:8080/"
        },
        "id": "0b0944c7",
        "outputId": "be39a449-2b91-4ee0-a198-862a83b5b634"
      },
      "outputs": [
        {
          "output_type": "stream",
          "name": "stdout",
          "text": [
            "(array([0, 1, 2, 4, 6]),)\n"
          ]
        }
      ],
      "source": [
        "x = np.array([5,6,8,0,1,0,7])\n",
        "nz_idx = np.where(x != 0)\n",
        "\n",
        "print(nz_idx)"
      ]
    },
    {
      "cell_type": "markdown",
      "id": "fb98a12e",
      "metadata": {
        "id": "fb98a12e"
      },
      "source": [
        "### nan 값 이해하기\n",
        "\n"
      ]
    },
    {
      "cell_type": "code",
      "execution_count": 70,
      "id": "7d12b519",
      "metadata": {
        "colab": {
          "base_uri": "https://localhost:8080/"
        },
        "id": "7d12b519",
        "outputId": "f101219f-ca20-4260-f0b4-3fd73ad3f405"
      },
      "outputs": [
        {
          "output_type": "stream",
          "name": "stdout",
          "text": [
            "False\n",
            "True\n",
            "False\n",
            "True\n"
          ]
        }
      ],
      "source": [
        "print(np.nan == np.nan)\n",
        "print(np.isnan(np.nan))\n",
        "\n",
        "import math\n",
        "print(0.3 == 3 * 0.1)\n",
        "print(math.isclose(0.1 + 0.2, 0.3))"
      ]
    },
    {
      "cell_type": "markdown",
      "id": "87f765ae",
      "metadata": {
        "id": "87f765ae"
      },
      "source": [
        "### 5. 12 x 12 매트릭스를 만들어 바둑판 패턴으로 0과 1을 채우세요"
      ]
    },
    {
      "cell_type": "code",
      "execution_count": 74,
      "id": "c5dade12",
      "metadata": {
        "colab": {
          "base_uri": "https://localhost:8080/"
        },
        "id": "c5dade12",
        "outputId": "096ad9f4-d5e6-4f77-f0f9-26e4929615f7"
      },
      "outputs": [
        {
          "output_type": "stream",
          "name": "stdout",
          "text": [
            "[[0. 0. 0. 0. 0. 0. 0. 0. 0. 0. 0. 0.]\n",
            " [0. 0. 0. 0. 0. 0. 0. 0. 0. 0. 0. 0.]\n",
            " [0. 0. 0. 0. 0. 0. 0. 0. 0. 0. 0. 0.]\n",
            " [0. 0. 0. 0. 0. 0. 0. 0. 0. 0. 0. 0.]\n",
            " [0. 0. 0. 0. 0. 0. 0. 0. 0. 0. 0. 0.]\n",
            " [0. 0. 0. 0. 0. 0. 0. 0. 0. 0. 0. 0.]\n",
            " [0. 0. 0. 0. 0. 0. 0. 0. 0. 0. 0. 0.]\n",
            " [0. 0. 0. 0. 0. 0. 0. 0. 0. 0. 0. 0.]\n",
            " [0. 0. 0. 0. 0. 0. 0. 0. 0. 0. 0. 0.]\n",
            " [0. 0. 0. 0. 0. 0. 0. 0. 0. 0. 0. 0.]\n",
            " [0. 0. 0. 0. 0. 0. 0. 0. 0. 0. 0. 0.]\n",
            " [0. 0. 0. 0. 0. 0. 0. 0. 0. 0. 0. 0.]]\n",
            "\n",
            "[[1. 1. 1. 1. 1. 1. 1. 1. 1. 1. 1. 1.]\n",
            " [1. 1. 1. 1. 1. 1. 1. 1. 1. 1. 1. 1.]\n",
            " [1. 1. 1. 1. 1. 1. 1. 1. 1. 1. 1. 1.]\n",
            " [1. 1. 1. 1. 1. 1. 1. 1. 1. 1. 1. 1.]\n",
            " [1. 1. 1. 1. 1. 1. 1. 1. 1. 1. 1. 1.]\n",
            " [1. 1. 1. 1. 1. 1. 1. 1. 1. 1. 1. 1.]\n",
            " [1. 1. 1. 1. 1. 1. 1. 1. 1. 1. 1. 1.]\n",
            " [1. 1. 1. 1. 1. 1. 1. 1. 1. 1. 1. 1.]\n",
            " [1. 1. 1. 1. 1. 1. 1. 1. 1. 1. 1. 1.]\n",
            " [1. 1. 1. 1. 1. 1. 1. 1. 1. 1. 1. 1.]\n",
            " [1. 1. 1. 1. 1. 1. 1. 1. 1. 1. 1. 1.]\n",
            " [1. 1. 1. 1. 1. 1. 1. 1. 1. 1. 1. 1.]]\n"
          ]
        }
      ],
      "source": [
        "x = np.zeros((12, 12))\n",
        "print(x, end='\\n\\n')\n",
        "###############\n",
        "# 슬라이싱을 사용하세요\n",
        "\n",
        "x = np.ones((12,12))\n",
        "###############\n",
        "print(x)"
      ]
    },
    {
      "cell_type": "markdown",
      "id": "8765875e",
      "metadata": {
        "id": "8765875e"
      },
      "source": [
        "### 6. np.tile 을 이용해서 동일한 바둑판 배턴을 만들어보세요"
      ]
    },
    {
      "cell_type": "code",
      "execution_count": 79,
      "id": "fe6834dd",
      "metadata": {
        "colab": {
          "base_uri": "https://localhost:8080/"
        },
        "id": "fe6834dd",
        "outputId": "7738cde6-22f3-4793-bc8a-7889eeb1e435"
      },
      "outputs": [
        {
          "output_type": "stream",
          "name": "stdout",
          "text": [
            "[[0 1 0 1 0 1 0 1 0 1 0 1]\n",
            " [0 1 0 1 0 1 0 1 0 1 0 1]\n",
            " [0 1 0 1 0 1 0 1 0 1 0 1]\n",
            " [0 1 0 1 0 1 0 1 0 1 0 1]\n",
            " [0 1 0 1 0 1 0 1 0 1 0 1]\n",
            " [0 1 0 1 0 1 0 1 0 1 0 1]\n",
            " [0 1 0 1 0 1 0 1 0 1 0 1]\n",
            " [0 1 0 1 0 1 0 1 0 1 0 1]\n",
            " [0 1 0 1 0 1 0 1 0 1 0 1]\n",
            " [0 1 0 1 0 1 0 1 0 1 0 1]\n",
            " [0 1 0 1 0 1 0 1 0 1 0 1]\n",
            " [0 1 0 1 0 1 0 1 0 1 0 1]]\n"
          ]
        }
      ],
      "source": [
        "x = np.tile(np.array([0,1]), (12,6))\n",
        "print(x)"
      ]
    },
    {
      "cell_type": "markdown",
      "id": "b1a5847c",
      "metadata": {
        "id": "b1a5847c"
      },
      "source": [
        "### 7. 1차원 배열이 x에서 값이 5~10인 요소를 0으로 바꾸세요"
      ]
    },
    {
      "cell_type": "code",
      "execution_count": 90,
      "id": "bd215833",
      "metadata": {
        "colab": {
          "base_uri": "https://localhost:8080/"
        },
        "id": "bd215833",
        "outputId": "915a5fab-0319-4f2c-ac2e-6fca5053e3bb"
      },
      "outputs": [
        {
          "output_type": "stream",
          "name": "stdout",
          "text": [
            "[ 2  5  3  8  3 34 23  7 10]\n",
            "[ 2  0  3  0  3 34 23  0  0]\n"
          ]
        }
      ],
      "source": [
        "x = np.array([2,5,3,8,3,34,23,7,10])\n",
        "print(x)\n",
        "##################\n",
        "# 필터링을 사용하세요.\n",
        "\n",
        "#d = (x >= 5) & (x <= 10)\n",
        "\n",
        "for i in range(len(x)):\n",
        "  if x[i] >= 5 and x[i] <= 10:\n",
        "    x[i] = 0\n",
        "\n",
        "##################\n",
        "print(x)"
      ]
    },
    {
      "cell_type": "markdown",
      "id": "d5bd1501",
      "metadata": {
        "id": "d5bd1501"
      },
      "source": [
        "### 8. 0에서 100 사이의 값으로 크기가 10인 1차원 array를 만드세요"
      ]
    },
    {
      "cell_type": "code",
      "execution_count": 92,
      "id": "88e38f0e",
      "metadata": {
        "colab": {
          "base_uri": "https://localhost:8080/"
        },
        "id": "88e38f0e",
        "outputId": "76ea9639-29fc-4f9c-a232-53697b403148"
      },
      "outputs": [
        {
          "output_type": "stream",
          "name": "stdout",
          "text": [
            "[  0.          11.11111111  22.22222222  33.33333333  44.44444444\n",
            "  55.55555556  66.66666667  77.77777778  88.88888889 100.        ]\n"
          ]
        }
      ],
      "source": [
        "x = np.linspace(0,100,10)\n",
        "print(x)"
      ]
    },
    {
      "cell_type": "markdown",
      "id": "143e78e1",
      "metadata": {
        "id": "143e78e1"
      },
      "source": [
        "### 9. np.allclose() 함수를 사용하여 2개의 array가 같은지를 확인해보세요"
      ]
    },
    {
      "cell_type": "code",
      "execution_count": 98,
      "id": "56449e50",
      "metadata": {
        "colab": {
          "base_uri": "https://localhost:8080/"
        },
        "id": "56449e50",
        "outputId": "5de202b0-84b1-49ca-e42c-012fb68c5428"
      },
      "outputs": [
        {
          "output_type": "stream",
          "name": "stdout",
          "text": [
            "True\n"
          ]
        }
      ],
      "source": [
        "A = np.array([1e10,1e-8])\n",
        "B = np.array([1.00001e10,1e-9])\n",
        "\n",
        "equal = np.allclose(A, B)\n",
        "print(equal)"
      ]
    },
    {
      "cell_type": "markdown",
      "id": "26819557",
      "metadata": {
        "id": "26819557"
      },
      "source": [
        "### 10. 데카르트 좌표를 나타내는 랜덤 8 x 2 행렬을 고려하여 극좌표로 변환해보세요."
      ]
    },
    {
      "cell_type": "code",
      "execution_count": 100,
      "id": "4136e249",
      "metadata": {
        "colab": {
          "base_uri": "https://localhost:8080/"
        },
        "id": "4136e249",
        "outputId": "c9afbf77-6ce2-4cd9-f3cf-a5d4c97d47ce"
      },
      "outputs": [
        {
          "output_type": "stream",
          "name": "stdout",
          "text": [
            "[[1.11062258 0.86854617]\n",
            " [0.58140847 1.44647532]\n",
            " [0.52538111 0.2256849 ]\n",
            " [1.30594061 0.82943085]\n",
            " [0.41325309 0.19584629]\n",
            " [0.915007   0.33788555]\n",
            " [0.99874406 1.09375409]\n",
            " [0.75265919 0.19020734]\n",
            " [1.20326654 0.8407049 ]\n",
            " [0.90823616 1.03967911]]\n"
          ]
        }
      ],
      "source": [
        "coord = np.random.random((10,2))\n",
        "x, y = coord[:,0], coord[:,1]\n",
        "r = np.sqrt(x**2+y**2)\n",
        "theta = np.arctan2(y,x)\n",
        "ploar_coord = np.concatenate([r[:,np.newaxis], theta[:,np.newaxis]],axis=1)\n",
        "print(ploar_coord)"
      ]
    },
    {
      "cell_type": "code",
      "execution_count": null,
      "id": "40708824",
      "metadata": {
        "id": "40708824"
      },
      "outputs": [],
      "source": []
    }
  ],
  "metadata": {
    "kernelspec": {
      "display_name": "Python 3 (ipykernel)",
      "language": "python",
      "name": "python3"
    },
    "language_info": {
      "codemirror_mode": {
        "name": "ipython",
        "version": 3
      },
      "file_extension": ".py",
      "mimetype": "text/x-python",
      "name": "python",
      "nbconvert_exporter": "python",
      "pygments_lexer": "ipython3",
      "version": "3.8.0"
    },
    "colab": {
      "provenance": [],
      "include_colab_link": true
    }
  },
  "nbformat": 4,
  "nbformat_minor": 5
}